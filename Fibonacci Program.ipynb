{
 "cells": [
  {
   "cell_type": "markdown",
   "id": "da2966dc",
   "metadata": {},
   "source": [
    "# Write a Python program to get the Fibonacci series between 0 to 50:"
   ]
  },
  {
   "cell_type": "code",
   "execution_count": 4,
   "id": "236710e4",
   "metadata": {},
   "outputs": [
    {
     "name": "stdout",
     "output_type": "stream",
     "text": [
      "Enter a start number is: 0\n",
      "Enter a End number is: 25\n",
      "Fibonacci Series is  0 to 25  \n",
      "0\n",
      "1\n",
      "1\n",
      "2\n",
      "3\n",
      "5\n",
      "8\n",
      "13\n",
      "21\n"
     ]
    }
   ],
   "source": [
    "x=int(input(\"Enter a start number is: \"))\n",
    "y=int(input(\"Enter a End number is: \"))\n",
    "a=0\n",
    "b=1\n",
    "count=0\n",
    "print(\"Fibonacci Series is \",x,\"to\", y,\" \")\n",
    "while (count<y):\n",
    "    a=b\n",
    "    b=count\n",
    "    count=a+b\n",
    "    print(b)\n",
    "print(end =\"\")"
   ]
  },
  {
   "cell_type": "code",
   "execution_count": null,
   "id": "97f9dad7",
   "metadata": {},
   "outputs": [],
   "source": []
  }
 ],
 "metadata": {
  "kernelspec": {
   "display_name": "Python 3 (ipykernel)",
   "language": "python",
   "name": "python3"
  },
  "language_info": {
   "codemirror_mode": {
    "name": "ipython",
    "version": 3
   },
   "file_extension": ".py",
   "mimetype": "text/x-python",
   "name": "python",
   "nbconvert_exporter": "python",
   "pygments_lexer": "ipython3",
   "version": "3.9.13"
  }
 },
 "nbformat": 4,
 "nbformat_minor": 5
}
