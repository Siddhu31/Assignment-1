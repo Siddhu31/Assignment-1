{
 "cells": [
  {
   "cell_type": "markdown",
   "id": "8b0a9d05",
   "metadata": {},
   "source": [
    "# Write a Python program that accepts a word from the user and reverse it."
   ]
  },
  {
   "cell_type": "code",
   "execution_count": 3,
   "id": "4124aad2",
   "metadata": {},
   "outputs": [
    {
     "name": "stdout",
     "output_type": "stream",
     "text": [
      "Enter a word is: Siddhu\n",
      "The original Word is: Siddhu\n",
      "The Reverse Word is: uhddiS \n"
     ]
    }
   ],
   "source": [
    "a = input(\"Enter a word is: \")\n",
    "b = \" \"\n",
    "for i in a:\n",
    "    b=i+b\n",
    "print(\"The original Word is:\",a)\n",
    "print(\"The Reverse Word is:\",b)"
   ]
  },
  {
   "cell_type": "code",
   "execution_count": null,
   "id": "7ee0d7c5",
   "metadata": {},
   "outputs": [],
   "source": []
  }
 ],
 "metadata": {
  "kernelspec": {
   "display_name": "Python 3 (ipykernel)",
   "language": "python",
   "name": "python3"
  },
  "language_info": {
   "codemirror_mode": {
    "name": "ipython",
    "version": 3
   },
   "file_extension": ".py",
   "mimetype": "text/x-python",
   "name": "python",
   "nbconvert_exporter": "python",
   "pygments_lexer": "ipython3",
   "version": "3.9.13"
  }
 },
 "nbformat": 4,
 "nbformat_minor": 5
}
