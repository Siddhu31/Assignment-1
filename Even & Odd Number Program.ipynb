{
 "cells": [
  {
   "cell_type": "markdown",
   "id": "f95bc604",
   "metadata": {},
   "source": [
    "# Write a Python program to count the number of even and odd numbers from a series of numbers.\n",
    "\n",
    "Sample numbers : numbers = (1, 2, 3, 4, 5, 6, 7, 8, 9) \n",
    "\n",
    "Expected Output :\n",
    "\n",
    "Number of even numbers : 4\n",
    "\n",
    "Number of odd numbers : 5\n"
   ]
  },
  {
   "cell_type": "code",
   "execution_count": 2,
   "id": "86c73943",
   "metadata": {},
   "outputs": [
    {
     "name": "stdout",
     "output_type": "stream",
     "text": [
      "Enter a Number is: 1,2,3,4,5,6,7,8,9\n",
      "No of Even Number is:  4\n",
      "No of Odd Number is:  5\n"
     ]
    }
   ],
   "source": [
    "#Even & Odd Number: \n",
    "\n",
    "x=eval(input(\"Enter a Number is: \"))\n",
    "count_even=0\n",
    "count_odd=0\n",
    "for i in x:\n",
    "    if i%2==0:\n",
    "        count_even=count_even+1\n",
    "    else:\n",
    "        count_odd=count_odd+1\n",
    "print(\"No of Even Number is: \",count_even)\n",
    "print(\"No of Odd Number is: \",count_odd)"
   ]
  },
  {
   "cell_type": "code",
   "execution_count": null,
   "id": "a8c7dae2",
   "metadata": {},
   "outputs": [],
   "source": []
  }
 ],
 "metadata": {
  "kernelspec": {
   "display_name": "Python 3 (ipykernel)",
   "language": "python",
   "name": "python3"
  },
  "language_info": {
   "codemirror_mode": {
    "name": "ipython",
    "version": 3
   },
   "file_extension": ".py",
   "mimetype": "text/x-python",
   "name": "python",
   "nbconvert_exporter": "python",
   "pygments_lexer": "ipython3",
   "version": "3.9.13"
  }
 },
 "nbformat": 4,
 "nbformat_minor": 5
}
